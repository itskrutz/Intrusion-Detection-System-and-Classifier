{
 "cells": [
  {
   "cell_type": "code",
   "execution_count": null,
   "id": "34108440-7318-4fbb-886d-3943d8426278",
   "metadata": {},
   "outputs": [],
   "source": [
    "import pandas as pd\n",
    "df = pd.read_csv('library_1min.csv')\n",
    "grouped = df.groupby(['SADDR', 'DADDR', 'PROTOCOL'])\n",
    "\n",
    "network_flows = grouped.agg({'I-COUNT': 'sum', 'O-COUNT': 'sum'})\n",
    "\n",
    "network_flows['SBYTES'] = grouped.apply(lambda x: x[x['TYPE'] == 'IN']['BYTES'].sum())\n",
    "network_flows['SBYTES_MEAN'] = grouped.apply(lambda x: x[x['TYPE'] == 'IN']['BYTES'].mean())\n",
    "network_flows['DBYTES'] = grouped.apply(lambda x: x[x['TYPE'] == 'OUT']['BYTES'].sum())\n",
    "network_flows['DBYTES_MEAN'] = grouped.apply(lambda x: x[x['TYPE'] == 'OUT']['BYTES'].mean())\n",
    "\n",
    "\n",
    "df['TIMESTAMP'] = pd.to_datetime(df['TIMESTAMP'])\n",
    "\n",
    "network_flows['TIME_DIFF_NS'] = grouped.apply(lambda x: (x['TIMESTAMP'].max() - x['TIMESTAMP'].min()).total_seconds() * 1e9)\n",
    "\n",
    "network_flows.reset_index(inplace=True)\n",
    "\n",
    "print(network_flows)\n",
    "\n"
   ]
  },
  {
   "cell_type": "code",
   "execution_count": null,
   "id": "3d8f56b3-745d-4520-8afc-ae8a1425bbdd",
   "metadata": {},
   "outputs": [],
   "source": []
  },
  {
   "cell_type": "code",
   "execution_count": null,
   "id": "53daeb85-3007-442b-be11-69a1dc190c16",
   "metadata": {},
   "outputs": [],
   "source": []
  },
  {
   "cell_type": "code",
   "execution_count": null,
   "id": "64664f54-a2ea-49ee-b9e4-d8256d0a27c3",
   "metadata": {},
   "outputs": [],
   "source": []
  },
  {
   "cell_type": "code",
   "execution_count": null,
   "id": "21d716cd-9568-4630-b2fb-1b67b0220818",
   "metadata": {},
   "outputs": [],
   "source": []
  },
  {
   "cell_type": "code",
   "execution_count": null,
   "id": "0fbaf799-3287-4689-befc-c82f7f5f3564",
   "metadata": {},
   "outputs": [],
   "source": []
  },
  {
   "cell_type": "code",
   "execution_count": null,
   "id": "18f6d957-a9ed-4678-8347-284b03a4fe0d",
   "metadata": {},
   "outputs": [],
   "source": []
  },
  {
   "cell_type": "code",
   "execution_count": null,
   "id": "d7f8f139-3672-4058-aea8-d246432d3d42",
   "metadata": {},
   "outputs": [],
   "source": []
  },
  {
   "cell_type": "code",
   "execution_count": null,
   "id": "411f8171-e4f5-4ef0-aa17-99f2afd5bcca",
   "metadata": {},
   "outputs": [],
   "source": []
  },
  {
   "cell_type": "code",
   "execution_count": null,
   "id": "aa5ca043-0f72-4428-bbcf-5bb74f1d38e8",
   "metadata": {},
   "outputs": [],
   "source": []
  },
  {
   "cell_type": "code",
   "execution_count": null,
   "id": "ce4511e5-e4e4-45b3-8047-ef6017571659",
   "metadata": {},
   "outputs": [],
   "source": []
  }
 ],
 "metadata": {
  "kernelspec": {
   "display_name": "Python 3 (ipykernel)",
   "language": "python",
   "name": "python3"
  },
  "language_info": {
   "codemirror_mode": {
    "name": "ipython",
    "version": 3
   },
   "file_extension": ".py",
   "mimetype": "text/x-python",
   "name": "python",
   "nbconvert_exporter": "python",
   "pygments_lexer": "ipython3",
   "version": "3.10.12"
  }
 },
 "nbformat": 4,
 "nbformat_minor": 5
}
