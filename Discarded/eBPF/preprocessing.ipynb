{
 "cells": [
  {
   "cell_type": "code",
   "execution_count": null,
   "id": "34108440-7318-4fbb-886d-3943d8426278",
   "metadata": {},
   "outputs": [],
   "source": [
    "import pandas as pd\n",
    "df = pd.read_csv('room_1min.csv')\n",
    "\n",
    "df['TIMESTAMP'] = pd.to_datetime(df['TIMESTAMP'])\n",
    "\n",
    "grouped = df.groupby(['SADDR', 'DADDR', 'PROTOCOL'])\n",
    "\n",
    "def calculate_inter_packet_time(df_group):\n",
    "    df_group = df_group.sort_values(by='TIMESTAMP')\n",
    "    inter_packet_time = (df_group['TIMESTAMP'] - df_group['TIMESTAMP'].shift()).dropna().mean()\n",
    "    return inter_packet_time.total_seconds() * 1e3 if inter_packet_time is not pd.NaT else None\n",
    "\n",
    "network_flows = grouped.agg({'I-COUNT': 'sum', 'O-COUNT': 'sum'})\n",
    "\n",
    "network_flows['SBYTES'] = grouped.apply(lambda x: x[x['TYPE'] == 'IN']['BYTES'].sum())\n",
    "network_flows['SBYTES_MEAN'] = grouped.apply(lambda x: x[x['TYPE'] == 'IN']['BYTES'].mean())\n",
    "network_flows['DBYTES'] = grouped.apply(lambda x: x[x['TYPE'] == 'OUT']['BYTES'].sum())\n",
    "network_flows['DBYTES_MEAN'] = grouped.apply(lambda x: x[x['TYPE'] == 'OUT']['BYTES'].mean())\n",
    "\n",
    "network_flows['TIME_DIFF_SEC'] = grouped.apply(lambda x: (x['TIMESTAMP'].max() - x['TIMESTAMP'].min()).total_seconds())\n",
    "\n",
    "network_flows['SINKPT'] = grouped.apply(lambda x: calculate_inter_packet_time(x[x['TYPE'] == 'IN']))\n",
    "network_flows['DINKPT'] = grouped.apply(lambda x: calculate_inter_packet_time(x[x['TYPE'] == 'OUT']))\n",
    "\n",
    "network_flows.reset_index(inplace=True)\n",
    "print(network_flows)\n"
   ]
  },
  {
   "cell_type": "code",
   "execution_count": 16,
   "id": "3d8f56b3-745d-4520-8afc-ae8a1425bbdd",
   "metadata": {},
   "outputs": [
    {
     "name": "stdout",
     "output_type": "stream",
     "text": [
      "Index(['TYPE', 'SADDR', 'DADDR', 'PROTOCOL', 'I-COUNT', 'O-COUNT', 'TIMESTAMP',\n",
      "       'BYTES'],\n",
      "      dtype='object')\n"
     ]
    }
   ],
   "source": [
    "import pandas as pd\n",
    "\n",
    "df = pd.read_csv('room_30s.csv')\n",
    "df['TIMESTAMP'] = pd.to_datetime(df['TIMESTAMP'])\n",
    "grouped = df.groupby(['SADDR', 'DADDR', 'PROTOCOL'])\n",
    "print(df.columns)\n"
   ]
  },
  {
   "cell_type": "code",
   "execution_count": 22,
   "id": "377acc6b",
   "metadata": {},
   "outputs": [
    {
     "name": "stdout",
     "output_type": "stream",
     "text": [
      "    id  spkts  dpkts  sbytes  dbytes   smean   dmean     sinkpt     dinkpt\n",
      "0    1      1      0      72       0    72.0     NaN      0.000      0.000\n",
      "1    2      0      1       0      72     NaN    72.0      0.000      0.000\n",
      "2    3     61     61     416     364    52.0    52.0   4140.572   4825.170\n",
      "3    4      9     14     156     156    52.0    52.0   1024.432   1023.978\n",
      "4    5     26     13     795     477   159.0   159.0    338.715    709.565\n",
      "5    6     13     26     477     795   159.0   159.0    709.566    338.718\n",
      "6    7     40     42   29922   29922  4987.0  4987.0   1126.381   1126.385\n",
      "7    8      1      2      52      52    52.0    52.0      0.000      0.000\n",
      "8    9      1      2      52      52    52.0    52.0      0.000      0.000\n",
      "9   10      1      2      52      52    52.0    52.0      0.000      0.000\n",
      "10  11     73    218     483    1173    69.0    69.0   2721.725   1642.690\n",
      "11  12    209    180    1200    1040    80.0    80.0   1514.715   1724.312\n",
      "12  13      1      2      52      52    52.0    52.0      0.000      0.000\n",
      "13  14    225    287     728     884    52.0    52.0   1899.539   1543.456\n",
      "14  15      4      6     104     104    52.0    52.0   2047.270   2047.942\n",
      "15  16     18     20     380     380    95.0    95.0   4127.495   4130.581\n",
      "16  17     10     12     156     156    52.0    52.0   2134.408   2139.376\n",
      "17  18      8     14     156     156    52.0    52.0   1008.604   1023.918\n",
      "18  19      4      6     104     104    52.0    52.0  16383.705  16384.265\n"
     ]
    }
   ],
   "source": [
    "def calculate_inter_packet_time(df_group, packet_type):\n",
    "    if df_group.empty:\n",
    "        return 0\n",
    "    df_group = df_group.sort_values(by='TIMESTAMP')\n",
    "    inter_packet_time = (df_group['TIMESTAMP'] - df_group['TIMESTAMP'].shift()).dropna().abs().mean()\n",
    "    return inter_packet_time.total_seconds() * 1e3 if inter_packet_time is not pd.NaT else 0\n",
    "\n",
    "network_flows = grouped.agg({'I-COUNT': 'sum', 'O-COUNT': 'sum'})\n",
    "network_flows['spkts'] = network_flows['I-COUNT']\n",
    "network_flows['dpkts'] = network_flows['O-COUNT']\n",
    "network_flows['sbytes'] = grouped.apply(lambda x: x[x['TYPE'] == 'IN']['BYTES'].sum())\n",
    "network_flows['dbytes'] = grouped.apply(lambda x: x[x['TYPE'] == 'OUT']['BYTES'].sum())\n",
    "network_flows['smean'] = grouped.apply(lambda x: x[x['TYPE'] == 'IN']['BYTES'].mean())\n",
    "network_flows['dmean'] = grouped.apply(lambda x: x[x['TYPE'] == 'OUT']['BYTES'].mean())\n",
    "network_flows['sinkpt'] = grouped.apply(lambda x: calculate_inter_packet_time(x[x['TYPE'] == 'IN'], 'IN'))\n",
    "network_flows['dinkpt'] = grouped.apply(lambda x: calculate_inter_packet_time(x[x['TYPE'] == 'OUT'], 'OUT'))\n",
    "\n",
    "# Drop 'SADDR' and 'DADDR' columns and rename 'PROTOCOL' column to 'PROTO'\n",
    "network_flows.drop(columns=['I-COUNT' , 'O-COUNT'], inplace=True)\n",
    "network_flows.rename(columns={'PROTOCOL': 'proto'}, inplace=True)\n",
    "\n",
    "# Add 'ID' column\n",
    "network_flows['id'] = range(1, len(network_flows) + 1)\n",
    "\n",
    "# Make 'id' the first column\n",
    "cols = list(network_flows.columns)\n",
    "cols = [cols[-1]] + cols[:-1]\n",
    "network_flows = network_flows[cols]\n",
    "\n",
    "# Reset index without adding a new column\n",
    "network_flows.reset_index(drop=True, inplace=True)\n",
    "\n",
    "print(network_flows)"
   ]
  },
  {
   "cell_type": "code",
   "execution_count": null,
   "id": "cd9eb898",
   "metadata": {},
   "outputs": [],
   "source": []
  },
  {
   "cell_type": "code",
   "execution_count": null,
   "id": "53daeb85-3007-442b-be11-69a1dc190c16",
   "metadata": {},
   "outputs": [],
   "source": []
  },
  {
   "cell_type": "code",
   "execution_count": null,
   "id": "64664f54-a2ea-49ee-b9e4-d8256d0a27c3",
   "metadata": {},
   "outputs": [],
   "source": []
  },
  {
   "cell_type": "code",
   "execution_count": null,
   "id": "21d716cd-9568-4630-b2fb-1b67b0220818",
   "metadata": {},
   "outputs": [],
   "source": []
  },
  {
   "cell_type": "code",
   "execution_count": null,
   "id": "0fbaf799-3287-4689-befc-c82f7f5f3564",
   "metadata": {},
   "outputs": [],
   "source": []
  },
  {
   "cell_type": "code",
   "execution_count": null,
   "id": "18f6d957-a9ed-4678-8347-284b03a4fe0d",
   "metadata": {},
   "outputs": [],
   "source": []
  },
  {
   "cell_type": "code",
   "execution_count": null,
   "id": "d7f8f139-3672-4058-aea8-d246432d3d42",
   "metadata": {},
   "outputs": [],
   "source": []
  },
  {
   "cell_type": "code",
   "execution_count": null,
   "id": "411f8171-e4f5-4ef0-aa17-99f2afd5bcca",
   "metadata": {},
   "outputs": [],
   "source": []
  },
  {
   "cell_type": "code",
   "execution_count": null,
   "id": "aa5ca043-0f72-4428-bbcf-5bb74f1d38e8",
   "metadata": {},
   "outputs": [],
   "source": []
  },
  {
   "cell_type": "code",
   "execution_count": null,
   "id": "ce4511e5-e4e4-45b3-8047-ef6017571659",
   "metadata": {},
   "outputs": [],
   "source": []
  }
 ],
 "metadata": {
  "kernelspec": {
   "display_name": "Python 3 (ipykernel)",
   "language": "python",
   "name": "python3"
  },
  "language_info": {
   "codemirror_mode": {
    "name": "ipython",
    "version": 3
   },
   "file_extension": ".py",
   "mimetype": "text/x-python",
   "name": "python",
   "nbconvert_exporter": "python",
   "pygments_lexer": "ipython3",
   "version": "3.10.12"
  }
 },
 "nbformat": 4,
 "nbformat_minor": 5
}
